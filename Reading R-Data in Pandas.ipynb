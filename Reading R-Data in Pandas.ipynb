{
 "cells": [
  {
   "cell_type": "markdown",
   "metadata": {},
   "source": [
    "# This code uses both R and Pyhton within one single Jupyter notebook. "
   ]
  },
  {
   "cell_type": "markdown",
   "metadata": {},
   "source": [
    "Import necessary libraries"
   ]
  },
  {
   "cell_type": "code",
   "execution_count": 917,
   "metadata": {},
   "outputs": [],
   "source": [
    "# Defaults:\n",
    "import os\n",
    "import pandas as pd\n",
    "import numpy as np\n",
    "\n",
    "# to load CSV data from URL\n",
    "import io\n",
    "import requests\n",
    "\n",
    "# Graphics:\n",
    "%matplotlib inline\n",
    "import matplotlib.pyplot as plt\n",
    "from mpl_toolkits.mplot3d import Axes3D # For 3d plots. This import is necessary to have 3D plotting below\n",
    "import pylab as pl\n",
    "import seaborn as sns; sns.set()  # for plot styling\n",
    "\n",
    "# R to Python libraries:\n",
    "from rpy2.robjects import r\n",
    "import rpy2.robjects.pandas2ri as pandas2ri\n",
    "import rpy2.robjects as robjects\n",
    "import rpy2.rinterface # import interface for having both R & Pyhton in  single framework"
   ]
  },
  {
   "cell_type": "markdown",
   "metadata": {},
   "source": [
    "# R section:"
   ]
  },
  {
   "cell_type": "code",
   "execution_count": 2,
   "metadata": {},
   "outputs": [],
   "source": [
    "# Load rpy2 in ipython:\n",
    "%load_ext rpy2.ipython "
   ]
  },
  {
   "cell_type": "markdown",
   "metadata": {},
   "source": [
    "This part runs in R.\n",
    "Reads data from the MPES website and saves them as RData.\n",
    "The RData will then be converted to Pyhthon Pandas DataFrame"
   ]
  },
  {
   "cell_type": "code",
   "execution_count": 5,
   "metadata": {},
   "outputs": [],
   "source": [
    "%%R\n",
    "\n",
    "library(foreign)\n",
    "library(survey)\n",
    "\n",
    "url = \"https://meps.ahrq.gov/mepsweb/data_files/pufs/\"\n",
    "file_path = \"C:/Users/ali/Downloads/Data Science/Bootcamps/Data Incubator Fellowship/Final interview/MEPS_data/2015/\"\n",
    "\n",
    "list_data <- list(\"h181\", \"h178a\" , \"h178b\", \"h178d\", \"h178e\", \"h178f\", \"h178g\", \"h178h\", \"h178if1\", \"h180\")\n",
    "\n",
    "#list_data <- list(\"h178e\", \"h178f\", \"h178g\", \"h178h\", \"h178if1\", \"h180\")\n",
    "\n",
    "for (data_name in list_data)\n",
    "{\n",
    "file_url = paste(url, data_name, \"ssp.zip\",sep = \"\")\n",
    "download.file(file_url, temp <- tempfile())\n",
    "\n",
    "unzipped_file = unzip(temp)\n",
    "name = read.xport(unzipped_file)\n",
    "unlink(temp)  # Unlink to delete temporary file\n",
    "\n",
    "file_address = paste(file_path, data_name,\".Rdata\",sep = \"\")\n",
    "save(name, file=file_address)\n",
    "rm(name)\n",
    "}"
   ]
  },
  {
   "cell_type": "markdown",
   "metadata": {},
   "source": [
    "# Back to Pyhton:"
   ]
  },
  {
   "cell_type": "markdown",
   "metadata": {},
   "source": [
    "Read and convert the RData to Pandas DataFrame"
   ]
  },
  {
   "cell_type": "code",
   "execution_count": 4,
   "metadata": {},
   "outputs": [],
   "source": [
    "# Define a function to read the RData and save it as CSV file:\n",
    "\n",
    "def from_R_to_csv(file_path,list_data, data_type):\n",
    "    for data_name in list_data:\n",
    "        file_name = file_path+data_name+\".Rdata\"\n",
    "        print(file_name)\n",
    "        rf=robjects.r['load'](file_name)\n",
    "        #acces file in env and convert\n",
    "        name = 'name'\n",
    "        df = pandas2ri.ri2py_dataframe(r[name])\n",
    "        df.name = data_name\n",
    "        df2 = pd.DataFrame()\n",
    "        if data_type == 'FYC':\n",
    "            df2 = df.loc[:,['DUPERSID','PERWT15F','VARSTR','VARPSU']]\n",
    "        elif data_type == 'APPENDIX':\n",
    "            df2 = df.loc[:,['DUPERSID', 'CONDIDX', 'EVNTIDX']]    \n",
    "        elif data_type == 'MED COND':\n",
    "            df2 = df.loc[:,['DUPERSID','CONDIDX','CCCODEX']]\n",
    "        elif data_type == 'EVENTS':\n",
    "            df2 = df      \n",
    "        csv_file_name = file_path+data_name+\".csv\"\n",
    "        df2.to_csv(csv_file_name)\n",
    "        del df, df2"
   ]
  },
  {
   "cell_type": "code",
   "execution_count": 41,
   "metadata": {},
   "outputs": [
    {
     "name": "stdout",
     "output_type": "stream",
     "text": [
      "C:/Users/ali/Downloads/Data Science/Bootcamps/Data Incubator Fellowship/Final interview/MEPS_data/2015/h181.Rdata\n",
      "C:/Users/ali/Downloads/Data Science/Bootcamps/Data Incubator Fellowship/Final interview/MEPS_data/2015/h181.csv\n",
      "C:/Users/ali/Downloads/Data Science/Bootcamps/Data Incubator Fellowship/Final interview/MEPS_data/2015/h178a.Rdata\n",
      "C:/Users/ali/Downloads/Data Science/Bootcamps/Data Incubator Fellowship/Final interview/MEPS_data/2015/h178a.csv\n",
      "C:/Users/ali/Downloads/Data Science/Bootcamps/Data Incubator Fellowship/Final interview/MEPS_data/2015/h178b.Rdata\n",
      "C:/Users/ali/Downloads/Data Science/Bootcamps/Data Incubator Fellowship/Final interview/MEPS_data/2015/h178b.csv\n",
      "C:/Users/ali/Downloads/Data Science/Bootcamps/Data Incubator Fellowship/Final interview/MEPS_data/2015/h178d.Rdata\n",
      "C:/Users/ali/Downloads/Data Science/Bootcamps/Data Incubator Fellowship/Final interview/MEPS_data/2015/h178d.csv\n",
      "C:/Users/ali/Downloads/Data Science/Bootcamps/Data Incubator Fellowship/Final interview/MEPS_data/2015/h178e.Rdata\n",
      "C:/Users/ali/Downloads/Data Science/Bootcamps/Data Incubator Fellowship/Final interview/MEPS_data/2015/h178e.csv\n",
      "C:/Users/ali/Downloads/Data Science/Bootcamps/Data Incubator Fellowship/Final interview/MEPS_data/2015/h178f.Rdata\n",
      "C:/Users/ali/Downloads/Data Science/Bootcamps/Data Incubator Fellowship/Final interview/MEPS_data/2015/h178f.csv\n",
      "C:/Users/ali/Downloads/Data Science/Bootcamps/Data Incubator Fellowship/Final interview/MEPS_data/2015/h178g.Rdata\n",
      "C:/Users/ali/Downloads/Data Science/Bootcamps/Data Incubator Fellowship/Final interview/MEPS_data/2015/h178g.csv\n",
      "C:/Users/ali/Downloads/Data Science/Bootcamps/Data Incubator Fellowship/Final interview/MEPS_data/2015/h178h.Rdata\n",
      "C:/Users/ali/Downloads/Data Science/Bootcamps/Data Incubator Fellowship/Final interview/MEPS_data/2015/h178h.csv\n",
      "C:/Users/ali/Downloads/Data Science/Bootcamps/Data Incubator Fellowship/Final interview/MEPS_data/2015/h178if1.Rdata\n",
      "C:/Users/ali/Downloads/Data Science/Bootcamps/Data Incubator Fellowship/Final interview/MEPS_data/2015/h178if1.csv\n",
      "C:/Users/ali/Downloads/Data Science/Bootcamps/Data Incubator Fellowship/Final interview/MEPS_data/2015/h180.Rdata\n",
      "C:/Users/ali/Downloads/Data Science/Bootcamps/Data Incubator Fellowship/Final interview/MEPS_data/2015/h180.csv\n"
     ]
    }
   ],
   "source": [
    "# To use the from_R_to_csv finction to read the saved RData for medical onditions and save them as CSV\n",
    "path = \"C:/Users/ali/Downloads/Data Science/Bootcamps/Data Incubator Fellowship/Final interview/MEPS_data/2015/\"\n",
    "\n",
    "# Event dictionary:\n",
    "Event_dict =  {'h178a': 'Prescribed Medicines',\n",
    "               'h178b': 'Dental Visits',\n",
    "               'h178c': 'Other Medical Expenses',\n",
    "               'h178d': 'Hospital Inpatient Stays',\n",
    "               'h178e': 'Emergency Room Visits',\n",
    "               'h178f': 'Outpatient Visits',\n",
    "               'h178g': 'Office-Based Medical Provider Visits',\n",
    "               'h178h': 'Home Health'}\n",
    "\n",
    "# Assigning data:\n",
    "FYC = [\"h181\"]\n",
    "Events = [\"h178a\" , \"h178b\", \"h178d\", \"h178e\", \"h178f\", \"h178g\", \"h178h\"]\n",
    "Event_Appendix  = [\"h178if1\"]\n",
    "Med_Cond = [\"h180\"]\n",
    "\n",
    "# Read and save data:\n",
    "from_R_to_csv(path ,FYC, 'FYC')\n",
    "from_R_to_csv(path ,Events, 'EVENTS')\n",
    "from_R_to_csv(path ,Event_Appendix, 'APPENDIX')\n",
    "from_R_to_csv(path ,Med_Cond, 'MED COND')"
   ]
  },
  {
   "cell_type": "code",
   "execution_count": 95,
   "metadata": {},
   "outputs": [],
   "source": [
    "# READ Appendix to MEPS Event (APX), Medical Condition (MEDC), and Full Year Consolidated (FYC) files \n",
    "#del MEDC,APX,FYC\n",
    "path = \"C:/Users/ali/Downloads/Data Science/Bootcamps/Data Incubator Fellowship/Final interview/MEPS_data/2015/\"\n",
    "\n",
    "APX_path = path + 'h178if1.csv'\n",
    "APX = pd.read_csv(APX_path)\n",
    "\n",
    "MEDC_path = path + 'h180.csv'\n",
    "MEDC = pd.read_csv(MEDC_path)\n",
    "\n",
    "FYC_path = path + 'h181.csv'\n",
    "FYC = pd.read_csv(FYC_path)"
   ]
  },
  {
   "cell_type": "code",
   "execution_count": 175,
   "metadata": {},
   "outputs": [
    {
     "name": "stdout",
     "output_type": "stream",
     "text": [
      "(377736, 6)\n",
      "(407985, 6)\n",
      "(123227, 8)\n",
      "(377736, 8)\n"
     ]
    },
    {
     "name": "stderr",
     "output_type": "stream",
     "text": [
      "C:\\Users\\ali\\AppData\\Local\\Continuum\\anaconda3\\lib\\site-packages\\numpy\\lib\\arraysetops.py:472: FutureWarning: elementwise comparison failed; returning scalar instead, but in the future will perform elementwise comparison\n",
      "  mask |= (ar1 == a)\n"
     ]
    },
    {
     "name": "stdout",
     "output_type": "stream",
     "text": [
      "C:/Users/ali/Downloads/Data Science/Bootcamps/Data Incubator Fellowship/Final interview/MEPS_data/2015/df7.csv\n"
     ]
    }
   ],
   "source": [
    "# Merge APX & MEDC\n",
    "#del df1, df3\n",
    "df1 = pd.merge(MEDC, APX, on=['DUPERSID','CONDIDX'], how = 'inner')\n",
    "print(df1.shape)\n",
    "df3 = pd.merge(MEDC,APX,on=['DUPERSID','CONDIDX'], how = 'left')\n",
    "print(df3.shape)\n",
    "df4 = MEDC.join(APX, lsuffix='_MEDC', rsuffix='_APX')\n",
    "print(df4.shape)\n",
    "df5 = APX.join(MEDC, lsuffix='_APX', rsuffix='_MEDC')\n",
    "print(df5.shape)\n",
    "\n",
    "df3 = df3.astype(float)\n",
    "df3['EVNTIDX'].replace('', np.nan, inplace=True)\n",
    "\n",
    "df3[~df3.isin(['NaN', 'NaT']).any(axis=1)]\n",
    "df7 = df3.dropna()\n",
    "csv_file_name = path+\"df7.csv\"\n",
    "print(csv_file_name)\n",
    "df7.to_csv(csv_file_name)\n"
   ]
  },
  {
   "cell_type": "code",
   "execution_count": 176,
   "metadata": {},
   "outputs": [
    {
     "name": "stdout",
     "output_type": "stream",
     "text": [
      "(330453, 70)\n",
      "(28090, 77)\n",
      "(2921, 61)\n",
      "(7163, 67)\n",
      "(14178, 70)\n",
      "(172388, 57)\n",
      "(6663, 69)\n"
     ]
    }
   ],
   "source": [
    "# READ EVENT FILES\n",
    "\n",
    "# Prescribed Medicines\n",
    "RX_path = path + 'h178a.csv'\n",
    "RX = pd.read_csv(RX_path)\n",
    "RX = RX.rename(columns = {'LINKIDX':'EVNTIDX'})\n",
    "print(RX.shape)\n",
    "\n",
    "# Dental Visits\n",
    "DVT_path = path + 'h178b.csv'\n",
    "DVT = pd.read_csv(DVT_path)\n",
    "DVT = DVT.rename(columns = {'LINKIDX':'EVNTIDX'})\n",
    "print(DVT.shape)\n",
    "\n",
    "# Hospital Inpatient Stays\n",
    "IPT_path = path + 'h178d.csv'\n",
    "IPT = pd.read_csv(IPT_path)\n",
    "IPT = IPT.rename(columns = {'LINKIDX':'EVNTIDX'})\n",
    "print(IPT.shape)\n",
    "\n",
    "# Emergency Room Visits\n",
    "ERT_path = path + 'h178e.csv'\n",
    "ERT = pd.read_csv(ERT_path)\n",
    "ERT = ERT.rename(columns = {'LINKIDX':'EVNTIDX'})\n",
    "print(ERT.shape)\n",
    "\n",
    "# Outpatient Visits\n",
    "OPT_path = path + 'h178f.csv'\n",
    "OPT = pd.read_csv(OPT_path)\n",
    "OPT = OPT.rename(columns = {'LINKIDX':'EVNTIDX'})\n",
    "print(OPT.shape)\n",
    "\n",
    "# Office-Based Medical Provider Visits\n",
    "OBV_path = path + 'h178g.csv'\n",
    "OBV = pd.read_csv(OBV_path)\n",
    "OBV = OBV.rename(columns = {'LINKIDX':'EVNTIDX'})\n",
    "print(OBV.shape)\n",
    "\n",
    "# Home Health\n",
    "HHT_path = path + 'h178h.csv'\n",
    "HHT = pd.read_csv(HHT_path)\n",
    "HHT = HHT.rename(columns = {'LINKIDX':'EVNTIDX'})\n",
    "print(HHT.shape)"
   ]
  },
  {
   "cell_type": "markdown",
   "metadata": {},
   "source": [
    "CCCODEX: \n",
    "The condition categories used in the summary data tables were defined using Clinical Classification System (CCS) categories. The table below shows the CCS codes that make up each category."
   ]
  },
  {
   "cell_type": "raw",
   "metadata": {},
   "source": [
    " value CCCFMT\n",
    "  -9 - -1                = [2.]\n",
    "  1-9                    = 'Infectious diseases                                         '\n",
    "  11-45                  = 'Cancer                                                      '\n",
    "  46, 47                 = 'Non-malignant neoplasm                                      '\n",
    "  48                     = 'Thyroid disease                                             '\n",
    "  49,50                  = 'Diabetes mellitus                                           '\n",
    "  51, 52, 54 - 58        = 'Other endocrine, nutritional & immune disorder              '\n",
    "  53                     = 'Hyperlipidemia                                              '\n",
    "  59                     = 'Anemia and other deficiencies                               '\n",
    "  60-64                  = 'Hemorrhagic, coagulation, and disorders of White Blood cells'\n",
    "  65-75, 650-670         = 'Mental disorders                                            '\n",
    "  76-78                  = 'CNS infection                                               '\n",
    "  79-81                  = 'Hereditary, degenerative and other nervous system disorders '\n",
    "  82                     = 'Paralysis                                                   '\n",
    "  84                     = 'Headache                                                    '\n",
    "  83                     = 'Epilepsy and convulsions                                    '\n",
    "  85                     = 'Coma, brain damage                                          '\n",
    "  86                     = 'Cataract                                                    '\n",
    "  88                     = 'Glaucoma                                                    '\n",
    "  87, 89-91              = 'Other eye disorders                                         '\n",
    "  92                     = 'Otitis media                                                '\n",
    "  93-95                  = 'Other CNS disorders                                         '\n",
    "  98,99                  = 'Hypertension                                                '\n",
    "  96, 97, 100-108        = 'Heart disease                                               '\n",
    "  109-113                = 'Cerebrovascular disease                                     '\n",
    "  114 -121               = 'Other circulatory conditions arteries, veins, and lymphatics'\n",
    "  122                    = 'Pneumonia                                                   '\n",
    "  123                    = 'Influenza                                                   '\n",
    "  124                    = 'Tonsillitis                                                 '\n",
    "  125 , 126              = 'Acute Bronchitis and URI                                    '\n",
    "  127-134                = 'COPD, asthma                                                '\n",
    "  135                    = 'Intestinal infection                                        '\n",
    "  136                    = 'Disorders of teeth and jaws                                 '\n",
    "  137                    = 'Disorders of mouth and esophagus                            '\n",
    "  138-141                = 'Disorders of the upper GI                                   '\n",
    "  142                    = 'Appendicitis                                                '\n",
    "  143                    = 'Hernias                                                     '\n",
    "  144- 148               = 'Other stomach and intestinal disorders                      '\n",
    "  153-155                = 'Other GI                                                    '\n",
    "  149-152                = 'Gallbladder, pancreatic, and liver disease                  '\n",
    "  156-158, 160, 161      = 'Kidney Disease                                              '\n",
    "  159                    = 'Urinary tract infections                                    '\n",
    "  162,163                = 'Other urinary                                               '\n",
    "  164-166                = 'Male genital disorders                                      '\n",
    "  167                    = 'Non-malignant breast disease                                '\n",
    "  168-176                = 'Female genital disorders, and contraception                 '\n",
    "  177-195                = 'Complications of pregnancy and birth                        '\n",
    "  196, 218               = 'Normal birth/live born                                      '\n",
    "  197-200                = 'Skin disorders                                              '\n",
    "  201-204                = 'Osteoarthritis and other non-traumatic joint disorders      '\n",
    "  205                    = 'Back problems                                               '\n",
    "  206-209, 212           = 'Other bone and musculoskeletal disease                     '\n",
    "  210-211                = 'Systemic lupus and connective tissues disorders             '\n",
    "  213-217                = 'Congenital anomalies                                        '\n",
    "  219-224                = 'Perinatal Conditions                                        '\n",
    "  225-236, 239, 240, 244 = 'Trauma-related disorders                                    '\n",
    "  237, 238               = 'Complications of surgery or device                          '\n",
    "  241 - 243              = 'Poisoning by medical and non-medical substances             '\n",
    "  259                    = 'Residual Codes                                              '\n",
    "  10, 254-258            = 'Other care and screening                                    '\n",
    "  245-252                = 'Symptoms                                                    '\n",
    "  253                    = 'Allergic reactions                                          '\n",
    "  OTHER                  = 'Other                             "
   ]
  },
  {
   "cell_type": "code",
   "execution_count": 179,
   "metadata": {},
   "outputs": [
    {
     "name": "stdout",
     "output_type": "stream",
     "text": [
      "(358287, 74)\n"
     ]
    }
   ],
   "source": [
    "df8 = pd.merge(RX,df7,on=['DUPERSID','EVNTIDX'], how = 'left')\n",
    "print(df8.shape)\n",
    "\n",
    "print(RX.shape)\n",
    "print(df7.shape)\n",
    "df9 = df8.dropna()\n",
    "csv_file_name = path+\"df9.csv\"\n",
    "print(csv_file_name)\n",
    "df9.to_csv(csv_file_name)\n",
    "\n",
    "mask = (df4.CCCODEX >=11) & (df4.CCCODEX <=45)\n",
    "df5 = df4.loc[mask]"
   ]
  },
  {
   "cell_type": "code",
   "execution_count": null,
   "metadata": {},
   "outputs": [],
   "source": []
  }
 ],
 "metadata": {
  "kernelspec": {
   "display_name": "Python 3",
   "language": "python",
   "name": "python3"
  },
  "language_info": {
   "codemirror_mode": {
    "name": "ipython",
    "version": 3
   },
   "file_extension": ".py",
   "mimetype": "text/x-python",
   "name": "python",
   "nbconvert_exporter": "python",
   "pygments_lexer": "ipython3",
   "version": "3.5.6"
  }
 },
 "nbformat": 4,
 "nbformat_minor": 2
}
